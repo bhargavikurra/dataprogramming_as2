{
 "cells": [
  {
   "cell_type": "code",
   "execution_count": 1,
   "metadata": {},
   "outputs": [
    {
     "name": "stdout",
     "output_type": "stream",
     "text": [
      "enter your name : sai bhargavi kurra\n",
      "hello sai bhargavi kurra\n"
     ]
    }
   ],
   "source": [
    "#chapter-2 Exercise-2\n",
    "user_name=input (\"enter your name : \")\n",
    "print (\"hello\", user_name)"
   ]
  },
  {
   "cell_type": "code",
   "execution_count": 21,
   "metadata": {},
   "outputs": [
    {
     "name": "stdout",
     "output_type": "stream",
     "text": [
      "enter hours : 35\n",
      "enter rate : 2.75\n",
      "Pay : 96.25\n"
     ]
    }
   ],
   "source": [
    "#chapter-2 Exercise-3\n",
    "hours=input (\"enter hours : \")\n",
    "rate_per_hour=input (\"enter rate : \")\n",
    "pay=float(hours)*float(rate_per_hour)\n",
    "print (\"Pay :\", pay)"
   ]
  },
  {
   "cell_type": "code",
   "execution_count": 18,
   "metadata": {
    "scrolled": true
   },
   "outputs": [
    {
     "name": "stdout",
     "output_type": "stream",
     "text": [
      "8\n",
      "<class 'int'>\n",
      "8.5\n",
      "<class 'float'>\n",
      "4.0\n",
      "<class 'float'>\n",
      "11\n",
      "<class 'int'>\n"
     ]
    }
   ],
   "source": [
    "#chapter-2 Exercise-4\n",
    "width = 17\n",
    "height = 12.0\n",
    "w1=width//2\n",
    "print(w1)\n",
    "print(type(w1))\n",
    "w2=width/2.0\n",
    "print(w2)\n",
    "print(type(w2))\n",
    "h=height/3\n",
    "print(h)\n",
    "print(type(h))\n",
    "a=1+2*5\n",
    "print(a)\n",
    "print(type(a))"
   ]
  },
  {
   "cell_type": "code",
   "execution_count": 19,
   "metadata": {},
   "outputs": [
    {
     "name": "stdout",
     "output_type": "stream",
     "text": [
      "enter the temperature: 97.00\n",
      "converted temp: 206.6\n"
     ]
    }
   ],
   "source": [
    "#chapter-2 Exercise-5\n",
    "c=float(input(\"enter the temperature: \"))\n",
    "f=float(c*9/5)+32\n",
    "print(\"converted temp:\",f)\n"
   ]
  },
  {
   "cell_type": "code",
   "execution_count": 3,
   "metadata": {},
   "outputs": [
    {
     "name": "stdout",
     "output_type": "stream",
     "text": [
      "enter hours: 45\n",
      "enter rate: 10\n",
      "Pay: 475.0\n"
     ]
    }
   ],
   "source": [
    "#chapter-3 exercise-1\n",
    "h=float(input(\"enter hours: \"))\n",
    "r=float(input(\"enter rate: \"))\n",
    "if h<= 40 :\n",
    "  pay = h*r\n",
    "  print(\"Pay:\",pay)\n",
    "else:\n",
    "  pay = 40*r+(r*1.5)*(h-40)\n",
    "  print(\"Pay:\",pay)"
   ]
  },
  {
   "cell_type": "code",
   "execution_count": 2,
   "metadata": {},
   "outputs": [
    {
     "name": "stdout",
     "output_type": "stream",
     "text": [
      "Enter Rate:ten\n",
      "non numeric inputs entered\n"
     ]
    }
   ],
   "source": [
    "#chapter-3 exercise-2\n",
    "try:\n",
    "    r= int(input(\"Enter Rate:\"))\n",
    "    h= int(input(\"enter hours: \"))\n",
    "    if h<= 40 :\n",
    "      pay = h*r\n",
    "      print(\"Pay:\",pay)\n",
    "    else:\n",
    "      pay = 40*r+(r*1.5)*(h-40)\n",
    "      print(\"Pay:\",pay)\n",
    "except:\n",
    "      print(\"non numeric inputs entered\")"
   ]
  },
  {
   "cell_type": "code",
   "execution_count": 4,
   "metadata": {},
   "outputs": [
    {
     "name": "stdout",
     "output_type": "stream",
     "text": [
      "enter a score:0.85\n",
      "B\n"
     ]
    }
   ],
   "source": [
    "#chapter-3 exercise-3\n",
    "score= float(input(\"enter a score:\"))\n",
    "if 0.0 <= score <= 1.0:\n",
    "    if score >= 0.9:\n",
    "        grade = \"A\"\n",
    "        print (grade)\n",
    "    elif 0.8 <= score < 0.9: \n",
    "        grade = \"B\"\n",
    "        print (grade)\n",
    "    elif 0.7 <= score < 0.8: \n",
    "        grade = \"C\"\n",
    "        print (grade)\n",
    "    elif 0.6 <= score < 0.7: \n",
    "        grade = \"D\"\n",
    "        print (grade)\n",
    "    else:\n",
    "        grade = \"F\"\n",
    "        print (grade)\n",
    "else:\n",
    "    print (\"Error: score out of range\")"
   ]
  },
  {
   "cell_type": "code",
   "execution_count": 15,
   "metadata": {},
   "outputs": [
    {
     "name": "stdout",
     "output_type": "stream",
     "text": [
      "ABC\n",
      "Zap\n",
      "ABC\n"
     ]
    }
   ],
   "source": [
    "#chapter-4 exercise-5\n",
    "def fred():\n",
    " print(\"Zap\")\n",
    "def jane():\n",
    " print(\"ABC\")\n",
    "jane()\n",
    "fred()\n",
    "jane()\n"
   ]
  },
  {
   "cell_type": "code",
   "execution_count": 39,
   "metadata": {},
   "outputs": [
    {
     "name": "stdout",
     "output_type": "stream",
     "text": [
      "Enter Hours: 45\n",
      "Enter Rate: 10\n",
      "Pay: 475.00\n"
     ]
    }
   ],
   "source": [
    "#chapter-4 exercise-6\n",
    "hours = float(input(\"Enter Hours: \"))\n",
    "rate = float(input(\"Enter Rate: \"))\n",
    "def computepay(hours, rate):\n",
    "    if hours<= 40 :\n",
    "        return(hours*rate)\n",
    "    else:\n",
    "        return(40*rate+(rate*1.5)*(hours-40))\n",
    "print (\"Pay: %.2f\" % computepay(hours, rate))\n"
   ]
  },
  {
   "cell_type": "code",
   "execution_count": 3,
   "metadata": {},
   "outputs": [
    {
     "name": "stdout",
     "output_type": "stream",
     "text": [
      "Enter score: 0.6\n",
      "D\n"
     ]
    }
   ],
   "source": [
    "#chapter-4 exercise-7\n",
    "def computegrade(score):\n",
    "    if score >= 0.0 and score <= 1.0:\n",
    "        if score >= 0.9:\n",
    "            print('A')\n",
    "        elif score >= 0.8:\n",
    "            print('B')\n",
    "        elif score >= 0.7:\n",
    "            print('C')\n",
    "        elif score >= 0.6:\n",
    "            print('D')\n",
    "        else:\n",
    "            print('F')\n",
    "\n",
    "    else:\n",
    "        print(\"Bad score\")\n",
    "score = input(\"Enter score: \")\n",
    "try:\n",
    "    score = float(score)\n",
    "except:\n",
    "    print(\"Error: score out of range\")\n",
    "    quit()\n",
    "computegrade(score)"
   ]
  },
  {
   "cell_type": "code",
   "execution_count": null,
   "metadata": {},
   "outputs": [],
   "source": []
  },
  {
   "cell_type": "code",
   "execution_count": null,
   "metadata": {},
   "outputs": [],
   "source": []
  },
  {
   "cell_type": "code",
   "execution_count": null,
   "metadata": {},
   "outputs": [],
   "source": []
  }
 ],
 "metadata": {
  "kernelspec": {
   "display_name": "Python 3",
   "language": "python",
   "name": "python3"
  },
  "language_info": {
   "codemirror_mode": {
    "name": "ipython",
    "version": 3
   },
   "file_extension": ".py",
   "mimetype": "text/x-python",
   "name": "python",
   "nbconvert_exporter": "python",
   "pygments_lexer": "ipython3",
   "version": "3.7.3"
  }
 },
 "nbformat": 4,
 "nbformat_minor": 2
}
